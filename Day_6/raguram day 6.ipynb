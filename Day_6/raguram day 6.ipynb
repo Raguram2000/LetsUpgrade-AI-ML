{
 "cells": [
  {
   "cell_type": "code",
   "execution_count": 46,
   "metadata": {},
   "outputs": [
    {
     "name": "stdout",
     "output_type": "stream",
     "text": [
      "Company Name from ram@hotmail.com : hotmail\n"
     ]
    }
   ],
   "source": [
    "####question 1\n",
    "\n",
    "mail_id = 'ram@hotmail.com'\n",
    "\n",
    "for k in range(len(mail_id)):\n",
    "    if mail_id[k] == '@':\n",
    "        company_name = mail_id[k+1 : mail_id.index('.')]\n",
    "        print(f'Company Name from {mail_id} : {company_name}')\n",
    "\n",
    "\n"
   ]
  },
  {
   "cell_type": "code",
   "execution_count": 87,
   "metadata": {},
   "outputs": [
    {
     "name": "stdout",
     "output_type": "stream",
     "text": [
      "Enter Words separate by comma (,) : ram,elaz,candy,dhana\n",
      "['candy', 'dhana', 'elaz', 'ram']\n"
     ]
    }
   ],
   "source": [
    "x= input(\"Enter Words separate by comma (,) : \").split(',')\n",
    "x.sort()\n",
    "print(x)\n",
    "\n"
   ]
  },
  {
   "cell_type": "code",
   "execution_count": 60,
   "metadata": {},
   "outputs": [
    {
     "name": "stdout",
     "output_type": "stream",
     "text": [
      "{'wifi', 'headphones', 'Canvas'}\n"
     ]
    }
   ],
   "source": [
    "### question 3\n",
    "thisset= {\"wifi\",'headphones','Canvas'}\n",
    "print(thisset)"
   ]
  },
  {
   "cell_type": "code",
   "execution_count": 61,
   "metadata": {},
   "outputs": [
    {
     "name": "stdout",
     "output_type": "stream",
     "text": [
      "wifi\n",
      "headphones\n",
      "Canvas\n"
     ]
    }
   ],
   "source": [
    "for item in thisset:\n",
    "    print(item)"
   ]
  },
  {
   "cell_type": "code",
   "execution_count": 62,
   "metadata": {},
   "outputs": [
    {
     "data": {
      "text/plain": [
       "False"
      ]
     },
     "execution_count": 62,
     "metadata": {},
     "output_type": "execute_result"
    }
   ],
   "source": [
    "'ipad' in thisset"
   ]
  },
  {
   "cell_type": "code",
   "execution_count": 63,
   "metadata": {},
   "outputs": [
    {
     "data": {
      "text/plain": [
       "True"
      ]
     },
     "execution_count": 63,
     "metadata": {},
     "output_type": "execute_result"
    }
   ],
   "source": [
    "\"wifi\" in thisset"
   ]
  },
  {
   "cell_type": "code",
   "execution_count": 64,
   "metadata": {},
   "outputs": [
    {
     "data": {
      "text/plain": [
       "{'Canvas', 'headphones', 'ipad', 'wifi'}"
      ]
     },
     "execution_count": 64,
     "metadata": {},
     "output_type": "execute_result"
    }
   ],
   "source": [
    "thisset.add(\"ipad\")\n",
    "thisset"
   ]
  },
  {
   "cell_type": "code",
   "execution_count": 65,
   "metadata": {},
   "outputs": [
    {
     "data": {
      "text/plain": [
       "{'Canvas', 'HDM1', 'TV', 'headphones', 'ipad', 'wifi'}"
      ]
     },
     "execution_count": 65,
     "metadata": {},
     "output_type": "execute_result"
    }
   ],
   "source": [
    "thisset.update([\"TV\",'HDM1'])\n",
    "thisset"
   ]
  },
  {
   "cell_type": "code",
   "execution_count": 66,
   "metadata": {},
   "outputs": [
    {
     "data": {
      "text/plain": [
       "6"
      ]
     },
     "execution_count": 66,
     "metadata": {},
     "output_type": "execute_result"
    }
   ],
   "source": [
    "len(thisset)"
   ]
  },
  {
   "cell_type": "code",
   "execution_count": 67,
   "metadata": {},
   "outputs": [
    {
     "data": {
      "text/plain": [
       "{'Canvas', 'TV', 'headphones', 'ipad', 'wifi'}"
      ]
     },
     "execution_count": 67,
     "metadata": {},
     "output_type": "execute_result"
    }
   ],
   "source": [
    "#Remove Item\n",
    "thisset.remove(\"HDM1\")\n",
    "thisset"
   ]
  },
  {
   "cell_type": "code",
   "execution_count": 68,
   "metadata": {},
   "outputs": [
    {
     "data": {
      "text/plain": [
       "'wifi'"
      ]
     },
     "execution_count": 68,
     "metadata": {},
     "output_type": "execute_result"
    }
   ],
   "source": [
    "thisset.pop()"
   ]
  },
  {
   "cell_type": "code",
   "execution_count": 72,
   "metadata": {},
   "outputs": [
    {
     "data": {
      "text/plain": [
       "{2, 3, 4, 5, 'hanuman', 'ram', 'ravan', 'seeta'}"
      ]
     },
     "execution_count": 72,
     "metadata": {},
     "output_type": "execute_result"
    }
   ],
   "source": [
    "set1 = {'ravan',2,3,4,5}\n",
    "set2 = {'ram','seeta','hanuman'}\n",
    "s = set1.union(set2)\n",
    "s"
   ]
  },
  {
   "cell_type": "code",
   "execution_count": 75,
   "metadata": {},
   "outputs": [
    {
     "name": "stdout",
     "output_type": "stream",
     "text": [
      "Enter Numbers with a range(1-n) Separate by Space (No Duplicates) : 1 3 4 6 8 9 10 12\n",
      "List of Numbers : [1, 3, 4, 6, 8, 9, 10, 12]\n",
      "Missing Number  : 2\n",
      "Missing Number  : 5\n",
      "Missing Number  : 7\n",
      "Missing Number  : 11\n"
     ]
    }
   ],
   "source": [
    "### question 4\n",
    "\n",
    "numbers = input(\"Enter Numbers with a range(1-n) Separate by Space (No Duplicates) : \").split(' ')\n",
    "n_list = []\n",
    "for n in numbers: # loop for converting each element into int\n",
    "    n_list.append(int(n))\n",
    "n_list.sort() # To sort numbers in accending\n",
    "print(f'List of Numbers : {n_list}')\n",
    "\n",
    "counter = 1\n",
    "\n",
    "for num in n_list:\n",
    "    if counter == num:\n",
    "        counter+=1\n",
    "    else:\n",
    "        print(f'Missing Number  : {counter}')\n",
    "        counter+=2"
   ]
  },
  {
   "cell_type": "code",
   "execution_count": 78,
   "metadata": {},
   "outputs": [
    {
     "name": "stdout",
     "output_type": "stream",
     "text": [
      "Enter Numbers Separate by Space : 1 2 33 44 33 53 13 1 2\n",
      "List of Numbers : [1, 1, 2, 2, 13, 33, 33, 44, 53]\n",
      "Without Duplicate Numbers : [1, 2, 13, 33, 44, 53] \n"
     ]
    }
   ],
   "source": [
    "### question 5\n",
    "\n",
    "numbers = input(\"Enter Numbers Separate by Space : \").split(' ')\n",
    "n_list = []\n",
    "for n in numbers: # loop for converting each element into int\n",
    "    n_list.append(int(n))\n",
    "n_list.sort() # To sort numbers in accending\n",
    "print(f'List of Numbers : {n_list}')\n",
    "\n",
    "print(f'Without Duplicate Numbers : {list(dict.fromkeys(n_list))} ')"
   ]
  },
  {
   "cell_type": "code",
   "execution_count": null,
   "metadata": {},
   "outputs": [],
   "source": []
  }
 ],
 "metadata": {
  "kernelspec": {
   "display_name": "Python 3",
   "language": "python",
   "name": "python3"
  },
  "language_info": {
   "codemirror_mode": {
    "name": "ipython",
    "version": 3
   },
   "file_extension": ".py",
   "mimetype": "text/x-python",
   "name": "python",
   "nbconvert_exporter": "python",
   "pygments_lexer": "ipython3",
   "version": "3.7.6"
  }
 },
 "nbformat": 4,
 "nbformat_minor": 4
}
