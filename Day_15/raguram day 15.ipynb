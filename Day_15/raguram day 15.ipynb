{
 "cells": [
  {
   "cell_type": "markdown",
   "metadata": {},
   "source": [
    "question 1: Create a 3x3x3 array with random values"
   ]
  },
  {
   "cell_type": "code",
   "execution_count": 4,
   "metadata": {},
   "outputs": [
    {
     "name": "stdout",
     "output_type": "stream",
     "text": [
      "[[[0.49190547 0.75495743 0.73016752]\n",
      "  [0.37280604 0.51522454 0.63154681]\n",
      "  [0.59141808 0.15226975 0.91072544]]\n",
      "\n",
      " [[0.16363488 0.88067499 0.81048232]\n",
      "  [0.84892322 0.23586036 0.24445938]\n",
      "  [0.52487983 0.40341407 0.02528025]]\n",
      "\n",
      " [[0.90553034 0.20527428 0.55142774]\n",
      "  [0.3755185  0.78645788 0.39310281]\n",
      "  [0.95845354 0.80887757 0.68515443]]]\n"
     ]
    }
   ],
   "source": [
    "import numpy as np\n",
    "x = np.random.random((3,3,3))\n",
    "print(x)"
   ]
  },
  {
   "cell_type": "markdown",
   "metadata": {},
   "source": [
    "question 2:Create a 5x5 matrix with values 1,2,3,4 just below the diagonal"
   ]
  },
  {
   "cell_type": "code",
   "execution_count": 32,
   "metadata": {},
   "outputs": [
    {
     "name": "stdout",
     "output_type": "stream",
     "text": [
      "[[ 1  2  3  4  5]\n",
      " [ 6  7  8  9 10]\n",
      " [11 12 13 14 15]\n",
      " [16 17 18 19 20]\n",
      " [21 22 23 24 25]]\n"
     ]
    }
   ],
   "source": [
    "arr=np.array([[1,2,3,4,5],[6,7,8,9,10],[11,12,13,14,15],[16,17,18,19,20],[21,22,23,24,25]])\n",
    "arr.shape\n",
    "print(arr)"
   ]
  },
  {
   "cell_type": "code",
   "execution_count": 35,
   "metadata": {},
   "outputs": [
    {
     "data": {
      "text/plain": [
       "array([[ 1,  2,  3,  4,  5],\n",
       "       [ 6,  7,  8,  9, 10],\n",
       "       [11, 12, 13, 14, 15],\n",
       "       [16, 17, 18, 19, 20],\n",
       "       [21, 22, 23, 24, 25]])"
      ]
     },
     "execution_count": 35,
     "metadata": {},
     "output_type": "execute_result"
    }
   ],
   "source": [
    "brr=arr[:,:]\n",
    "brr"
   ]
  },
  {
   "cell_type": "code",
   "execution_count": 39,
   "metadata": {},
   "outputs": [
    {
     "data": {
      "text/plain": [
       "array([[ 1,  1,  3,  4,  5],\n",
       "       [ 1,  7,  8,  9, 10],\n",
       "       [11,  2, 13, 14, 15],\n",
       "       [16, 17,  3, 19, 20],\n",
       "       [21, 22, 23,  4, 25]])"
      ]
     },
     "execution_count": 39,
     "metadata": {},
     "output_type": "execute_result"
    }
   ],
   "source": [
    "brr[1][0]=1\n",
    "brr[2][1]=2\n",
    "brr[3][2]=3\n",
    "brr[4][3]=4\n",
    "\n",
    "brr"
   ]
  },
  {
   "cell_type": "markdown",
   "metadata": {},
   "source": [
    "question 3:Create a 8x8 matrix and fill it with a checkerboard pattern"
   ]
  },
  {
   "cell_type": "code",
   "execution_count": 40,
   "metadata": {},
   "outputs": [
    {
     "name": "stdout",
     "output_type": "stream",
     "text": [
      "Checkerboard pattern:\n",
      "[[0 1 0 1 0 1 0 1]\n",
      " [1 0 1 0 1 0 1 0]\n",
      " [0 1 0 1 0 1 0 1]\n",
      " [1 0 1 0 1 0 1 0]\n",
      " [0 1 0 1 0 1 0 1]\n",
      " [1 0 1 0 1 0 1 0]\n",
      " [0 1 0 1 0 1 0 1]\n",
      " [1 0 1 0 1 0 1 0]]\n"
     ]
    }
   ],
   "source": [
    "import numpy as np\n",
    "x = np.ones((3,3))\n",
    "print(\"Checkerboard pattern:\")\n",
    "x = np.zeros((8,8),dtype=int)\n",
    "x[1::2,::2] = 1\n",
    "x[::2,1::2] = 1\n",
    "print(x)"
   ]
  },
  {
   "cell_type": "markdown",
   "metadata": {},
   "source": [
    "question 4:Normalize a 5x5 random matrix"
   ]
  },
  {
   "cell_type": "code",
   "execution_count": 41,
   "metadata": {},
   "outputs": [
    {
     "name": "stdout",
     "output_type": "stream",
     "text": [
      "Original Array:\n",
      "[[ 1  1  3  4  5]\n",
      " [ 1  7  8  9 10]\n",
      " [11  2 13 14 15]\n",
      " [16 17  3 19 20]\n",
      " [21 22 23  4 25]]\n",
      "After normalization:\n",
      "[[0.         0.         0.08333333 0.125      0.16666667]\n",
      " [0.         0.25       0.29166667 0.33333333 0.375     ]\n",
      " [0.41666667 0.04166667 0.5        0.54166667 0.58333333]\n",
      " [0.625      0.66666667 0.08333333 0.75       0.79166667]\n",
      " [0.83333333 0.875      0.91666667 0.125      1.        ]]\n"
     ]
    }
   ],
   "source": [
    "import numpy as np\n",
    "\n",
    "print(\"Original Array:\",)\n",
    "print(arr)\n",
    "arrmax=arr.max()\n",
    "arrmin=arr.min()\n",
    "arr = (arr - arrmin)/(arrmax - arrmin)\n",
    "print(\"After normalization:\")\n",
    "print(arr)"
   ]
  },
  {
   "cell_type": "markdown",
   "metadata": {},
   "source": [
    "question 5: How to find common values between two arrays?"
   ]
  },
  {
   "cell_type": "code",
   "execution_count": 42,
   "metadata": {},
   "outputs": [
    {
     "name": "stdout",
     "output_type": "stream",
     "text": [
      "Array1:  [ 0 10 20 40 60]\n",
      "Array2:  [10, 30, 40]\n",
      "Common values between two arrays:\n",
      "[10 40]\n"
     ]
    }
   ],
   "source": [
    "import numpy as np\n",
    "array1 = np.array([0, 10, 20, 40, 60])\n",
    "print(\"Array1: \",array1)\n",
    "array2 = [10, 30, 40]\n",
    "print(\"Array2: \",array2)\n",
    "print(\"Common values between two arrays:\")\n",
    "print(np.intersect1d(array1, array2))"
   ]
  },
  {
   "cell_type": "markdown",
   "metadata": {},
   "source": [
    "question 6:How to get the dates of yesterday, today and tomorrow?"
   ]
  },
  {
   "cell_type": "code",
   "execution_count": 43,
   "metadata": {},
   "outputs": [
    {
     "name": "stdout",
     "output_type": "stream",
     "text": [
      "Yesterday :  2020-07-25\n",
      "Today :  2020-07-26\n",
      "Tomorrow :  2020-07-27\n"
     ]
    }
   ],
   "source": [
    "import datetime \n",
    "today = datetime.date.today()\n",
    "yesterday = today - datetime.timedelta(days = 1)\n",
    "tomorrow = today + datetime.timedelta(days = 1) \n",
    "print('Yesterday : ',yesterday)\n",
    "print('Today : ',today)\n",
    "print('Tomorrow : ',tomorrow)"
   ]
  },
  {
   "cell_type": "markdown",
   "metadata": {},
   "source": [
    "question 7:Consider two random array A and B, check if they are equal"
   ]
  },
  {
   "cell_type": "code",
   "execution_count": 45,
   "metadata": {},
   "outputs": [
    {
     "name": "stdout",
     "output_type": "stream",
     "text": [
      "First array:\n",
      "[[0.         0.         0.08333333 0.125      0.16666667]\n",
      " [0.         0.25       0.29166667 0.33333333 0.375     ]\n",
      " [0.41666667 0.04166667 0.5        0.54166667 0.58333333]\n",
      " [0.625      0.66666667 0.08333333 0.75       0.79166667]\n",
      " [0.83333333 0.875      0.91666667 0.125      1.        ]]\n",
      "Second array:\n",
      "[[ 1  1  3  4  5]\n",
      " [ 1  7  8  9 10]\n",
      " [11  2 13 14 15]\n",
      " [16 17  3 19 20]\n",
      " [21 22 23  4 25]]\n",
      "Test above two arrays are equal or not!\n",
      "False\n"
     ]
    }
   ],
   "source": [
    "import numpy as np\n",
    "print(\"First array:\")\n",
    "print(arr)\n",
    "print(\"Second array:\")\n",
    "print(brr)\n",
    "print(\"Test above two arrays are equal or not!\")\n",
    "array_equal = np.allclose(arr,brr)\n",
    "print(array_equal)"
   ]
  },
  {
   "cell_type": "markdown",
   "metadata": {},
   "source": [
    "question 8:Create random vector of size 10 and replace the maximum value by 0"
   ]
  },
  {
   "cell_type": "code",
   "execution_count": 46,
   "metadata": {},
   "outputs": [
    {
     "name": "stdout",
     "output_type": "stream",
     "text": [
      "Original array:\n",
      "[0.81566216 0.24440401 0.60501896 0.13111476 0.61652247 0.06943701\n",
      " 0.1901883  0.90842996 0.32618146 0.0808309 ]\n",
      "Maximum value replaced by -1:\n",
      "[0.81566216 0.24440401 0.60501896 0.13111476 0.61652247 0.06943701\n",
      " 0.1901883  0.         0.32618146 0.0808309 ]\n"
     ]
    }
   ],
   "source": [
    "import numpy as np\n",
    "x = np.random.random(10)\n",
    "print(\"Original array:\")\n",
    "print(x)\n",
    "x[x.argmax()] = 0\n",
    "print(\"Maximum value replaced by -1:\")\n",
    "print(x)"
   ]
  },
  {
   "cell_type": "markdown",
   "metadata": {},
   "source": [
    "question 9:How to print all the values of an array?"
   ]
  },
  {
   "cell_type": "code",
   "execution_count": 62,
   "metadata": {},
   "outputs": [
    {
     "name": "stdout",
     "output_type": "stream",
     "text": [
      "[[1. 1. 1. 1.]\n",
      " [1. 1. 1. 1.]\n",
      " [1. 1. 1. 1.]\n",
      " [1. 1. 1. 1.]]\n"
     ]
    }
   ],
   "source": [
    "import numpy as np\n",
    "import sys\n",
    "np.set_printoptions(threshold=sys.maxsize)\n",
    "x = np.ones((4, 4))\n",
    "print(x)"
   ]
  },
  {
   "cell_type": "code",
   "execution_count": null,
   "metadata": {},
   "outputs": [],
   "source": []
  },
  {
   "cell_type": "code",
   "execution_count": 64,
   "metadata": {},
   "outputs": [
    {
     "name": "stdout",
     "output_type": "stream",
     "text": [
      "Original matrix:\n",
      "\n",
      "[[ 1  1  3  4  5]\n",
      " [ 1  7  8  9 10]\n",
      " [11  2 13 14 15]\n",
      " [16 17  3 19 20]\n",
      " [21 22 23  4 25]]\n",
      "\n",
      "Subtract the mean of each row of the said matrix:\n",
      "\n",
      "[[ -1.8  -1.8   0.2   1.2   2.2]\n",
      " [ -6.    0.    1.    2.    3. ]\n",
      " [  0.   -9.    2.    3.    4. ]\n",
      " [  1.    2.  -12.    4.    5. ]\n",
      " [  2.    3.    4.  -15.    6. ]]\n"
     ]
    }
   ],
   "source": [
    "import numpy as np\n",
    "print(\"Original matrix:\\n\")\n",
    "\n",
    "print(brr)\n",
    "print(\"\\nSubtract the mean of each row of the said matrix:\\n\")\n",
    "crr = brr - brr.mean(axis=1, keepdims=True)\n",
    "print(crr)"
   ]
  },
  {
   "cell_type": "markdown",
   "metadata": {},
   "source": [
    "question 11.Consider a given vector, how to add 1 to each element indexed by a second vector (be careful with repeated indices)?"
   ]
  },
  {
   "cell_type": "code",
   "execution_count": 2,
   "metadata": {},
   "outputs": [
    {
     "name": "stdout",
     "output_type": "stream",
     "text": [
      "[2. 2. 3. 2. 4. 1. 2. 5. 6. 3.]\n"
     ]
    }
   ],
   "source": [
    "import numpy as np\n",
    "import pandas  as pd\n",
    "a = np.ones(10)\n",
    "b = np.random.randint(0,len(a),20)\n",
    "a += np.bincount(b, minlength=len(a))\n",
    "print(a)"
   ]
  },
  {
   "cell_type": "markdown",
   "metadata": {},
   "source": [
    "question 12.How to get the diagonal of a dot product?"
   ]
  },
  {
   "cell_type": "code",
   "execution_count": 3,
   "metadata": {},
   "outputs": [
    {
     "name": "stdout",
     "output_type": "stream",
     "text": [
      "Dot product Matrix \n",
      "\n",
      "[[ 75 108 148]\n",
      " [ 28  70 100]\n",
      " [ 23  56  72]]\n",
      "\n",
      "Diagonal\n",
      "\n",
      "[75 70 72]\n"
     ]
    }
   ],
   "source": [
    "A = np.random.randint(0,10,(3,3))\n",
    "B= np.random.randint(0,10,(3,3))\n",
    "ab = np.dot(A, B)\n",
    "print(\"Dot product Matrix \\n\")\n",
    "print(ab)\n",
    "print()\n",
    "print(\"Diagonal\\n\")\n",
    "print(np.diag(ab))"
   ]
  },
  {
   "cell_type": "markdown",
   "metadata": {},
   "source": [
    "question 13.How to find the most frequent value in an array?"
   ]
  },
  {
   "cell_type": "code",
   "execution_count": 4,
   "metadata": {},
   "outputs": [
    {
     "name": "stdout",
     "output_type": "stream",
     "text": [
      "[39 20 29 45 71 76 33 82 12 78 89 36 53 72 89 21 20 98 60 69 55 73 85 85\n",
      "  9 96 41 16  4  4 88 97 44 91 63 63 78 27 96 48 48 47  3  5 76 24 65 65\n",
      " 48  5 30 21 34 47 77 79  6 26 17 85 31 74  1 66 78 37 91 17 96 55 27  0\n",
      " 43 39 40 28 26 12 30 55 53 35 36 85 79 27 98  3 95 54 61 11  6 62 53 80\n",
      "  9 48 40 14]\n",
      "Frequent Number: 48\n"
     ]
    }
   ],
   "source": [
    "m= np.random.randint(0,100,100)\n",
    "print (m)\n",
    "print('Frequent Number:', np.bincount(m).argmax())"
   ]
  },
  {
   "cell_type": "markdown",
   "metadata": {},
   "source": [
    "question 14.How to get the n largest values of an array"
   ]
  },
  {
   "cell_type": "code",
   "execution_count": 5,
   "metadata": {},
   "outputs": [
    {
     "name": "stdout",
     "output_type": "stream",
     "text": [
      "[9997 9999 9998 9996 9994 9995 9993 9992 9990 9991]\n"
     ]
    }
   ],
   "source": [
    "Z = np.arange(10000)\n",
    "np.random.shuffle(Z)\n",
    "n = 10\n",
    "# Fast\n",
    "print (Z[np.argpartition(-Z,n)[:n]])"
   ]
  },
  {
   "cell_type": "markdown",
   "metadata": {},
   "source": [
    "question 15.How to create a record array from a regular array?"
   ]
  },
  {
   "cell_type": "code",
   "execution_count": 7,
   "metadata": {},
   "outputs": [
    {
     "data": {
      "text/plain": [
       "rec.array([(b'python', 2.5, 3), (b'hacker', 3.6, 2)],\n",
       "          dtype=[('col1', 'S8'), ('col2', '<f8'), ('col3', '<i8')])"
      ]
     },
     "execution_count": 7,
     "metadata": {},
     "output_type": "execute_result"
    }
   ],
   "source": [
    "a = np.array([(\"python\", 2.5, 3),\n",
    "              (\"hacker\", 3.6, 2)])\n",
    "b = np.core.records.fromarrays(a.T,\n",
    "                               names='col1, col2, col3',\n",
    "                               formats = 'S8, f8, i8')\n",
    "b"
   ]
  }
 ],
 "metadata": {
  "kernelspec": {
   "display_name": "Python 3",
   "language": "python",
   "name": "python3"
  },
  "language_info": {
   "codemirror_mode": {
    "name": "ipython",
    "version": 3
   },
   "file_extension": ".py",
   "mimetype": "text/x-python",
   "name": "python",
   "nbconvert_exporter": "python",
   "pygments_lexer": "ipython3",
   "version": "3.7.6"
  }
 },
 "nbformat": 4,
 "nbformat_minor": 4
}
